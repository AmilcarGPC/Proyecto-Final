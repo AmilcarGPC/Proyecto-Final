{
 "cells": [
  {
   "cell_type": "code",
   "execution_count": 19,
   "metadata": {},
   "outputs": [
    {
     "name": "stdout",
     "output_type": "stream",
     "text": [
      "FORMATEADO 2: ['    return param1 + param2 + param3 + param4 + param5 + param6 + param7 + param8 \\\\', '    + param9']\n",
      "FORMATEADO 2: ['    return param1 + param2 + param3 + param4 + param5 + param6 + param7 + param8 \\\\', '    \\\\']\n"
     ]
    }
   ],
   "source": [
    "from pathlib import Path\n",
    "\n",
    "from analizador_cambios.core.contadores.analizador import AnalizadorCodigo\n",
    "from analizador_cambios.core.arbol.comparador_principal import ComparadorVersiones\n",
    "from analizador_cambios.utils.formatters import display_metrics_table\n",
    "from analizador_cambios.core.arbol.generador_reporte import GeneradorReporte\n",
    "from analizador_cambios.core.gestion_archivos.almacenamiento_metricas import (\n",
    "    AlmacenamientoMetricas\n",
    ")\n",
    "from analizador_cambios.utils.archivo_utils import escribir_python\n",
    "from analizador_cambios.core.gestion_archivos.escribir_cambios import EscribirCambios\n",
    "from analizador_cambios.utils.impresion_arbol import imprimir_arbol\n",
    "\n",
    "almacen = AlmacenamientoMetricas()\n",
    "analizador1 = AnalizadorCodigo()\n",
    "analizador2 = AnalizadorCodigo()\n",
    "comparador = ComparadorVersiones()\n",
    "\n",
    "filepath_1 = \"../data/ejemplo_v1.py\"\n",
    "filepath_2 = \"../data/ejemplo_v2.py\"\n",
    "\n",
    "filename_1 = Path(filepath_1).name\n",
    "filename_2 = Path(filepath_2).name\n",
    "\n",
    "resultado1 = analizador1.analizar_archivo(filepath_1, filename_1)\n",
    "resultado2 = analizador2.analizar_archivo(filepath_2, filename_2)\n",
    "\n",
    "comparar = comparador.comparar_archivos(analizador1.arbol,analizador2.arbol)\n",
    "escritor = EscribirCambios()\n",
    "codigo_1, codigo_2 = escritor.escribir(analizador1, analizador2, comparar)"
   ]
  },
  {
   "cell_type": "code",
   "execution_count": null,
   "metadata": {},
   "outputs": [],
   "source": []
  },
  {
   "cell_type": "code",
   "execution_count": 20,
   "metadata": {},
   "outputs": [
    {
     "name": "stdout",
     "output_type": "stream",
     "text": [
      "Árbol del Archivo Python:\n",
      "└── [function] def function_too_long( param1, param2, param3, param4, param5, param6, param7, param8, param9):\n",
      "    └── [return] return param1 + param2 + param3 + param4 + param5 + param6 + param7 + param8  + param9\n"
     ]
    }
   ],
   "source": [
    "imprimir_arbol(analizador2.arbol.raiz)"
   ]
  }
 ],
 "metadata": {
  "kernelspec": {
   "display_name": "Python 3",
   "language": "python",
   "name": "python3"
  },
  "language_info": {
   "codemirror_mode": {
    "name": "ipython",
    "version": 3
   },
   "file_extension": ".py",
   "mimetype": "text/x-python",
   "name": "python",
   "nbconvert_exporter": "python",
   "pygments_lexer": "ipython3",
   "version": "3.12.7"
  }
 },
 "nbformat": 4,
 "nbformat_minor": 2
}
