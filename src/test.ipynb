{
 "cells": [
  {
   "cell_type": "code",
   "execution_count": 6,
   "metadata": {},
   "outputs": [
    {
     "name": "stdout",
     "output_type": "stream",
     "text": [
      "False\n",
      "False\n",
      "False\n",
      "False\n",
      "a añadir: 1\n",
      "Eliminado: 1\n",
      "mapeo1: [1]\n",
      "a eliminar: 1\n",
      "def kafka():\n",
      "\n",
      "    return \"kafka\" # ELIMINADO\n",
      "\n",
      "def kafa(): # MODIFICADO\n",
      "\n",
      "    print(\"Hola desde kafa\") # AGREGADO\n",
      "\n"
     ]
    }
   ],
   "source": [
    "from pathlib import Path\n",
    "\n",
    "from analizador_cambios.core.contadores.analizador import AnalizadorCodigo\n",
    "from analizador_cambios.core.arbol.comparador_principal import ComparadorVersiones\n",
    "from analizador_cambios.utils.formatters import display_metrics_table\n",
    "from analizador_cambios.core.arbol.generador_reporte import GeneradorReporte\n",
    "from analizador_cambios.core.gestion_archivos.almacenamiento_metricas import (\n",
    "    AlmacenamientoMetricas\n",
    ")\n",
    "\n",
    "almacen = AlmacenamientoMetricas()\n",
    "analizador1 = AnalizadorCodigo()\n",
    "analizador2 = AnalizadorCodigo()\n",
    "comparador = ComparadorVersiones()\n",
    "\n",
    "filepath_1 = \"../data/ejemplo_v1.py\"\n",
    "filepath_2 = \"../data/ejemplo_v2.py\"\n",
    "\n",
    "filename_1 = Path(filepath_1).name\n",
    "filename_2 = Path(filepath_2).name\n",
    "\n",
    "resultado1 = analizador1.analizar_archivo(filepath_1, filename_1)\n",
    "resultado2 = analizador2.analizar_archivo(filepath_2, filename_2)\n",
    "\n",
    "comparar = comparador.comparar_archivos(analizador1.arbol,analizador2.arbol)\n",
    "\n",
    "from analizador_cambios.core.gestion_archivos.escribir_cambios import EscribirCambios\n",
    "\n",
    "escritor = EscribirCambios()\n",
    "codigo_1, codigo_2 = escritor.escribir(analizador1, analizador2, comparar)\n",
    "\n",
    "for linea in codigo_1:\n",
    "    if linea != '\\n':\n",
    "        print(linea)\n",
    "\n",
    "for linea in codigo_2:\n",
    "    if linea != '\\n':\n",
    "        print(linea)"
   ]
  },
  {
   "cell_type": "code",
   "execution_count": null,
   "metadata": {},
   "outputs": [
    {
     "name": "stdout",
     "output_type": "stream",
     "text": [
      "* def kafka(): → def kafa():\n",
      "+ print(\"Hola desde kafa\")\n",
      "- return \"kafka\"\n"
     ]
    }
   ],
   "source": []
  },
  {
   "cell_type": "code",
   "execution_count": null,
   "metadata": {},
   "outputs": [
    {
     "data": {
      "text/plain": [
       "['x = 0\\n', 'x = 1\\n', 'x = 2\\n', 'x = 2 # AGREGADO\\n', '\\n']"
      ]
     },
     "execution_count": 9,
     "metadata": {},
     "output_type": "execute_result"
    }
   ],
   "source": [
    ".codigo_2"
   ]
  },
  {
   "cell_type": "code",
   "execution_count": 8,
   "metadata": {},
   "outputs": [
    {
     "name": "stdout",
     "output_type": "stream",
     "text": [
      "\n",
      "+------------+---------+--------------------+-------------------------+------------------------------------+\n",
      "| PROGRAMA   | CLASE   | TOTAL DE MÉTODOS   | LOC FÍSICAS POR CLASE   | TOTAL DE LOC FÍSICA DEL PROGRAMA   |\n",
      "+============+=========+====================+=========================+====================================+\n",
      "| test_1.py  | Token   | 2                  | 6                       |                                    |\n",
      "+------------+---------+--------------------+-------------------------+------------------------------------+\n",
      "|            | Lexer   | 5                  | 30                      |                                    |\n",
      "+------------+---------+--------------------+-------------------------+------------------------------------+\n",
      "|            | Parser  | 5                  | 42                      |                                    |\n",
      "+------------+---------+--------------------+-------------------------+------------------------------------+\n",
      "|            |         | 0                  | 14                      |                                    |\n",
      "+------------+---------+--------------------+-------------------------+------------------------------------+\n",
      "|            |         |                    |                         | 92                                 |\n",
      "+------------+---------+--------------------+-------------------------+------------------------------------+\n",
      "\n",
      "+------------+---------+--------------------+-------------------------+------------------------------------+\n",
      "| PROGRAMA   | CLASE   | TOTAL DE MÉTODOS   | LOC FÍSICAS POR CLASE   | TOTAL DE LOC FÍSICA DEL PROGRAMA   |\n",
      "+============+=========+====================+=========================+====================================+\n",
      "| test_2.py  |         | 0                  | 19                      |                                    |\n",
      "+------------+---------+--------------------+-------------------------+------------------------------------+\n",
      "|            |         |                    |                         | 19                                 |\n",
      "+------------+---------+--------------------+-------------------------+------------------------------------+\n"
     ]
    }
   ],
   "source": [
    "display_metrics_table([almacen.cargar_metricas(filename_1)])\n",
    "display_metrics_table([almacen.cargar_metricas(filename_2)])"
   ]
  },
  {
   "cell_type": "code",
   "execution_count": null,
   "metadata": {},
   "outputs": [
    {
     "name": "stdout",
     "output_type": "stream",
     "text": [
      "Árbol del Archivo Python:\n",
      "└── [function] def main():\n",
      "    ├── [function_docstring] \"\"\"Función principal del script\"\"\"\n",
      "    ├── [white_space] \n",
      "    ├── [white_space] \n",
      "    └── [expression] print(\"Hola mundo\")\n"
     ]
    }
   ],
   "source": []
  },
  {
   "cell_type": "code",
   "execution_count": 6,
   "metadata": {},
   "outputs": [],
   "source": [
    "from analizador_cambios import __main__ as main"
   ]
  },
  {
   "cell_type": "code",
   "execution_count": 8,
   "metadata": {},
   "outputs": [
    {
     "name": "stdout",
     "output_type": "stream",
     "text": [
      "None\n"
     ]
    }
   ],
   "source": [
    "print(resultado)"
   ]
  },
  {
   "cell_type": "code",
   "execution_count": 5,
   "metadata": {},
   "outputs": [
    {
     "name": "stdout",
     "output_type": "stream",
     "text": [
      "Defaulting to user installation because normal site-packages is not writeable"
     ]
    },
    {
     "name": "stderr",
     "output_type": "stream",
     "text": [
      "\n",
      "[notice] A new release of pip is available: 24.2 -> 24.3.1"
     ]
    },
    {
     "name": "stdout",
     "output_type": "stream",
     "text": [
      "\n"
     ]
    },
    {
     "name": "stderr",
     "output_type": "stream",
     "text": [
      "\n"
     ]
    },
    {
     "name": "stdout",
     "output_type": "stream",
     "text": [
      "Collecting tabulate"
     ]
    },
    {
     "name": "stderr",
     "output_type": "stream",
     "text": [
      "[notice] To update, run: C:\\Users\\quilg\\AppData\\Local\\Microsoft\\WindowsApps\\PythonSoftwareFoundation.Python.3.12_qbz5n2kfra8p0\\python.exe -m pip install --upgrade pip"
     ]
    },
    {
     "name": "stdout",
     "output_type": "stream",
     "text": [
      "\n",
      "  Using cached tabulate-0.9.0-py3-none-any.whl.metadata (34 kB)"
     ]
    },
    {
     "name": "stderr",
     "output_type": "stream",
     "text": [
      "\n"
     ]
    },
    {
     "name": "stdout",
     "output_type": "stream",
     "text": [
      "Note: you may need to restart the kernel to use updated packages.\n",
      "Using cached tabulate-0.9.0-py3-none-any.whl (35 kB)\n",
      "\n",
      "Installing collected packages: tabulate\n",
      "Successfully installed tabulate-0.9.0\n"
     ]
    }
   ],
   "source": [
    "%pip install tabulate"
   ]
  },
  {
   "cell_type": "code",
   "execution_count": 5,
   "metadata": {},
   "outputs": [
    {
     "name": "stdout",
     "output_type": "stream",
     "text": [
      "\n",
      "Este texto es rojo\n",
      "Este texto tiene fondo amarillo\n",
      "Este texto es brillante\n",
      "Estilo y color restablecidos\n",
      "Texto verde con estilo atenuado\n"
     ]
    }
   ],
   "source": [
    "from colorama import Fore, Back, Style, init\n",
    "\n",
    "# Inicializa Colorama (necesario en Windows)\n",
    "init()\n",
    "print(Style.RESET_ALL)\n",
    "print(Fore.RED + \"Este texto es rojo\")\n",
    "print(Back.YELLOW + \"Este texto tiene fondo amarillo\")\n",
    "print(Style.BRIGHT + \"Este texto es brillante\")\n",
    "print(Style.RESET_ALL + \"Estilo y color restablecidos\")\n",
    "\n",
    "# Combina colores y estilos\n",
    "print(Fore.GREEN + Style.DIM + \"Texto verde con estilo atenuado\")\n"
   ]
  }
 ],
 "metadata": {
  "kernelspec": {
   "display_name": "Python 3",
   "language": "python",
   "name": "python3"
  },
  "language_info": {
   "codemirror_mode": {
    "name": "ipython",
    "version": 3
   },
   "file_extension": ".py",
   "mimetype": "text/x-python",
   "name": "python",
   "nbconvert_exporter": "python",
   "pygments_lexer": "ipython3",
   "version": "3.12.7"
  }
 },
 "nbformat": 4,
 "nbformat_minor": 2
}
