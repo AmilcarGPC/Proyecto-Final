{
 "cells": [
  {
   "cell_type": "code",
   "execution_count": 19,
   "metadata": {},
   "outputs": [
    {
     "name": "stdout",
     "output_type": "stream",
     "text": [
      "FORMATEADO 2: ['    return param1 + param2 + param3 + param4 + param5 + param6 + param7 + param8 \\\\', '    + param9']\n",
      "FORMATEADO 2: ['    return param1 + param2 + param3 + param4 + param5 + param6 + param7 + param8 \\\\', '    \\\\']\n"
     ]
    }
   ],
   "source": [
    "from pathlib import Path\n",
    "\n",
    "from analizador_cambios.core.contadores.analizador import AnalizadorCodigo\n",
    "from analizador_cambios.core.arbol.comparador_principal import ComparadorVersiones\n",
    "from analizador_cambios.utils.formatters import display_metrics_table\n",
    "from analizador_cambios.core.arbol.generador_reporte import GeneradorReporte\n",
    "from analizador_cambios.core.gestion_archivos.almacenamiento_metricas import (\n",
    "    AlmacenamientoMetricas\n",
    ")\n",
    "from analizador_cambios.utils.archivo_utils import escribir_python\n",
    "from analizador_cambios.core.gestion_archivos.escribir_cambios import EscribirCambios\n",
    "from analizador_cambios.utils.impresion_arbol import imprimir_arbol\n",
    "\n",
    "almacen = AlmacenamientoMetricas()\n",
    "analizador1 = AnalizadorCodigo()\n",
    "analizador2 = AnalizadorCodigo()\n",
    "comparador = ComparadorVersiones()\n",
    "\n",
    "filepath_1 = \"../data/ejemplo_v1.py\"\n",
    "filepath_2 = \"../data/ejemplo_v2.py\"\n",
    "\n",
    "filename_1 = Path(filepath_1).name\n",
    "filename_2 = Path(filepath_2).name\n",
    "\n",
    "resultado1 = analizador1.analizar_archivo(filepath_1, filename_1)\n",
    "resultado2 = analizador2.analizar_archivo(filepath_2, filename_2)\n",
    "\n",
    "comparar = comparador.comparar_archivos(analizador1.arbol,analizador2.arbol)\n",
    "escritor = EscribirCambios()\n",
    "codigo_1, codigo_2 = escritor.escribir(analizador1, analizador2, comparar)"
   ]
  },
  {
   "cell_type": "code",
   "execution_count": 12,
   "metadata": {},
   "outputs": [],
   "source": [
    "def mi_funcion(argumento1, argumento2):\n",
    "    pass"
   ]
  },
  {
   "cell_type": "code",
   "execution_count": null,
   "metadata": {},
   "outputs": [],
   "source": [
    "# Caso 1: Comentario en línea de continuación\n",
    "valor1 = 1\n",
    "valor2 = 2\n",
    "valor3 = 3\n",
    "valor4 = 3\n",
    "\n",
    "result = (valor1 + valor2 + valor3 + valor4 + # Este comentario romperá la continuación\n",
    "          valor2)"
   ]
  },
  {
   "cell_type": "code",
   "execution_count": null,
   "metadata": {},
   "outputs": [
    {
     "ename": "NameError",
     "evalue": "name 'ClaseBase1' is not defined",
     "output_type": "error",
     "traceback": [
      "\u001b[1;31m---------------------------------------------------------------------------\u001b[0m",
      "\u001b[1;31mNameError\u001b[0m                                 Traceback (most recent call last)",
      "Cell \u001b[1;32mIn[18], line 5\u001b[0m\n\u001b[0;32m      1\u001b[0m \u001b[38;5;66;03m# Entrada\u001b[39;00m\n\u001b[0;32m      2\u001b[0m \u001b[38;5;66;03m# Salida problemática\u001b[39;00m\n\u001b[0;32m      3\u001b[0m \u001b[38;5;28;01mclass\u001b[39;00m \u001b[38;5;21;01mMiClase\u001b[39;00m(\n\u001b[0;32m      4\u001b[0m     \u001b[38;5;66;03m# Hereda de múltiples clases\u001b[39;00m\n\u001b[1;32m----> 5\u001b[0m     \u001b[43mClaseBase1\u001b[49m,\n\u001b[0;32m      6\u001b[0m     ClaseBase2\n\u001b[0;32m      7\u001b[0m ):\n\u001b[0;32m      8\u001b[0m     \u001b[38;5;28;01mpass\u001b[39;00m\n",
      "\u001b[1;31mNameError\u001b[0m: name 'ClaseBase1' is not defined"
     ]
    }
   ],
   "source": [
    "# Entrada\n",
    "# Salida problemática\n",
    "class MiClase(\n",
    "    # Hereda de múltiples clases\n",
    "    ClaseBase1,\n",
    "    ClaseBase2cd \n",
    "):\n",
    "    pass\n",
    "\n"
   ]
  },
  {
   "cell_type": "code",
   "execution_count": 6,
   "metadata": {},
   "outputs": [
    {
     "name": "stdout",
     "output_type": "stream",
     "text": [
      "[['hola mundo', 'mundo', 'como']]\n"
     ]
    }
   ],
   "source": [
    "test = [\n",
    "    [\n",
    "        \"hola \"\n",
    "        \"mundo\",\n",
    "        \"mundo\",\n",
    "        \"como\"\n",
    "    ]\n",
    "]\n",
    "\n",
    "print(test)"
   ]
  },
  {
   "cell_type": "code",
   "execution_count": 20,
   "metadata": {},
   "outputs": [
    {
     "name": "stdout",
     "output_type": "stream",
     "text": [
      "Árbol del Archivo Python:\n",
      "└── [function] def function_too_long( param1, param2, param3, param4, param5, param6, param7, param8, param9):\n",
      "    └── [return] return param1 + param2 + param3 + param4 + param5 + param6 + param7 + param8  + param9\n"
     ]
    }
   ],
   "source": [
    "imprimir_arbol(analizador2.arbol.raiz)"
   ]
  }
 ],
 "metadata": {
  "kernelspec": {
   "display_name": "Python 3",
   "language": "python",
   "name": "python3"
  },
  "language_info": {
   "codemirror_mode": {
    "name": "ipython",
    "version": 3
   },
   "file_extension": ".py",
   "mimetype": "text/x-python",
   "name": "python",
   "nbconvert_exporter": "python",
   "pygments_lexer": "ipython3",
   "version": "3.12.7"
  }
 },
 "nbformat": 4,
 "nbformat_minor": 2
}
